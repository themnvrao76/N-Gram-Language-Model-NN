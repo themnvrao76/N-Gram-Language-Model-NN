{
 "cells": [
  {
   "cell_type": "code",
   "execution_count": 1,
   "metadata": {},
   "outputs": [
    {
     "name": "stdout",
     "output_type": "stream",
     "text": [
      "Total Words 32033\n",
      "Max Length 15\n",
      "Min Length, 2\n"
     ]
    }
   ],
   "source": [
    "words=open(\"names.txt\",\"r\").read().splitlines()\n",
    "print(\"Total Words\",len(words))\n",
    "print(\"Max Length\",max(len(i) for i in words))\n",
    "print(\"Min Length,\",min(len(i) for i in words))\n"
   ]
  },
  {
   "cell_type": "code",
   "execution_count": 2,
   "metadata": {},
   "outputs": [
    {
     "data": {
      "text/plain": [
       "{'a': 1,\n",
       " 'b': 2,\n",
       " 'c': 3,\n",
       " 'd': 4,\n",
       " 'e': 5,\n",
       " 'f': 6,\n",
       " 'g': 7,\n",
       " 'h': 8,\n",
       " 'i': 9,\n",
       " 'j': 10,\n",
       " 'k': 11,\n",
       " 'l': 12,\n",
       " 'm': 13,\n",
       " 'n': 14,\n",
       " 'o': 15,\n",
       " 'p': 16,\n",
       " 'q': 17,\n",
       " 'r': 18,\n",
       " 's': 19,\n",
       " 't': 20,\n",
       " 'u': 21,\n",
       " 'v': 22,\n",
       " 'w': 23,\n",
       " 'x': 24,\n",
       " 'y': 25,\n",
       " 'z': 26,\n",
       " '.': 0}"
      ]
     },
     "execution_count": 2,
     "metadata": {},
     "output_type": "execute_result"
    }
   ],
   "source": [
    "ltable=set(\"\".join(words))\n",
    "stable={s:i+1 for i,s in enumerate(sorted(ltable))}\n",
    "stable[\".\"]=0\n",
    "stable"
   ]
  },
  {
   "cell_type": "markdown",
   "metadata": {},
   "source": [
    "# Creating Traning Set"
   ]
  },
  {
   "cell_type": "code",
   "execution_count": 4,
   "metadata": {},
   "outputs": [],
   "source": [
    "import torch\n",
    "xs=[];ys=[]\n",
    "for i in words:\n",
    "    char=[\".\"]+list(i)+[\".\"]\n",
    "    for w1,w2 in zip(char,char[1:]):\n",
    "        idx1=stable[w1]\n",
    "        idx2=stable[w2]\n",
    "        xs.append(idx1)\n",
    "        ys.append(idx2)\n",
    "        \n",
    "xs=torch.tensor(xs)\n",
    "ys=torch.tensor(ys)"
   ]
  },
  {
   "cell_type": "markdown",
   "metadata": {},
   "source": [
    "# One Hot Vector (Encoding)"
   ]
  },
  {
   "cell_type": "code",
   "execution_count": 5,
   "metadata": {},
   "outputs": [],
   "source": [
    "from torch.nn import functional as f"
   ]
  },
  {
   "cell_type": "code",
   "execution_count": 30,
   "metadata": {},
   "outputs": [
    {
     "name": "stdout",
     "output_type": "stream",
     "text": [
      "Shape of X  torch.Size([228146, 27])\n",
      "Shape of W  torch.Size([27, 27])\n"
     ]
    }
   ],
   "source": [
    "X=f.one_hot(xs, num_classes=27).float()\n",
    "\n",
    "W=torch.randn((27,27),requires_grad=True)\n",
    "print(\"Shape of X \",X.shape)\n",
    "print(\"Shape of W \",W.shape) # (5 X 27) (27 X 27) = (5 X 27)"
   ]
  },
  {
   "cell_type": "markdown",
   "metadata": {},
   "source": [
    "# Traning Loop"
   ]
  },
  {
   "cell_type": "code",
   "execution_count": null,
   "metadata": {},
   "outputs": [],
   "source": []
  },
  {
   "cell_type": "code",
   "execution_count": 31,
   "metadata": {},
   "outputs": [
    {
     "name": "stdout",
     "output_type": "stream",
     "text": [
      "Epochs- 0 Loss tensor(3.6706, grad_fn=<AddBackward0>)\n",
      "Epochs- 1 Loss tensor(3.3189, grad_fn=<AddBackward0>)\n",
      "Epochs- 2 Loss tensor(3.1182, grad_fn=<AddBackward0>)\n",
      "Epochs- 3 Loss tensor(2.9897, grad_fn=<AddBackward0>)\n",
      "Epochs- 4 Loss tensor(2.8981, grad_fn=<AddBackward0>)\n",
      "Epochs- 5 Loss tensor(2.8315, grad_fn=<AddBackward0>)\n",
      "Epochs- 6 Loss tensor(2.7825, grad_fn=<AddBackward0>)\n",
      "Epochs- 7 Loss tensor(2.7455, grad_fn=<AddBackward0>)\n",
      "Epochs- 8 Loss tensor(2.7165, grad_fn=<AddBackward0>)\n",
      "Epochs- 9 Loss tensor(2.6931, grad_fn=<AddBackward0>)\n",
      "Epochs- 10 Loss tensor(2.6737, grad_fn=<AddBackward0>)\n",
      "Epochs- 11 Loss tensor(2.6574, grad_fn=<AddBackward0>)\n",
      "Epochs- 12 Loss tensor(2.6434, grad_fn=<AddBackward0>)\n",
      "Epochs- 13 Loss tensor(2.6312, grad_fn=<AddBackward0>)\n",
      "Epochs- 14 Loss tensor(2.6206, grad_fn=<AddBackward0>)\n",
      "Epochs- 15 Loss tensor(2.6111, grad_fn=<AddBackward0>)\n",
      "Epochs- 16 Loss tensor(2.6027, grad_fn=<AddBackward0>)\n",
      "Epochs- 17 Loss tensor(2.5951, grad_fn=<AddBackward0>)\n",
      "Epochs- 18 Loss tensor(2.5882, grad_fn=<AddBackward0>)\n",
      "Epochs- 19 Loss tensor(2.5820, grad_fn=<AddBackward0>)\n",
      "Epochs- 20 Loss tensor(2.5763, grad_fn=<AddBackward0>)\n",
      "Epochs- 21 Loss tensor(2.5711, grad_fn=<AddBackward0>)\n",
      "Epochs- 22 Loss tensor(2.5663, grad_fn=<AddBackward0>)\n",
      "Epochs- 23 Loss tensor(2.5619, grad_fn=<AddBackward0>)\n",
      "Epochs- 24 Loss tensor(2.5578, grad_fn=<AddBackward0>)\n",
      "Epochs- 25 Loss tensor(2.5540, grad_fn=<AddBackward0>)\n",
      "Epochs- 26 Loss tensor(2.5506, grad_fn=<AddBackward0>)\n",
      "Epochs- 27 Loss tensor(2.5474, grad_fn=<AddBackward0>)\n",
      "Epochs- 28 Loss tensor(2.5444, grad_fn=<AddBackward0>)\n",
      "Epochs- 29 Loss tensor(2.5416, grad_fn=<AddBackward0>)\n",
      "Epochs- 30 Loss tensor(2.5390, grad_fn=<AddBackward0>)\n",
      "Epochs- 31 Loss tensor(2.5366, grad_fn=<AddBackward0>)\n",
      "Epochs- 32 Loss tensor(2.5343, grad_fn=<AddBackward0>)\n",
      "Epochs- 33 Loss tensor(2.5322, grad_fn=<AddBackward0>)\n",
      "Epochs- 34 Loss tensor(2.5302, grad_fn=<AddBackward0>)\n",
      "Epochs- 35 Loss tensor(2.5283, grad_fn=<AddBackward0>)\n",
      "Epochs- 36 Loss tensor(2.5265, grad_fn=<AddBackward0>)\n",
      "Epochs- 37 Loss tensor(2.5249, grad_fn=<AddBackward0>)\n",
      "Epochs- 38 Loss tensor(2.5233, grad_fn=<AddBackward0>)\n",
      "Epochs- 39 Loss tensor(2.5218, grad_fn=<AddBackward0>)\n",
      "Epochs- 40 Loss tensor(2.5204, grad_fn=<AddBackward0>)\n",
      "Epochs- 41 Loss tensor(2.5191, grad_fn=<AddBackward0>)\n",
      "Epochs- 42 Loss tensor(2.5178, grad_fn=<AddBackward0>)\n",
      "Epochs- 43 Loss tensor(2.5166, grad_fn=<AddBackward0>)\n",
      "Epochs- 44 Loss tensor(2.5154, grad_fn=<AddBackward0>)\n",
      "Epochs- 45 Loss tensor(2.5143, grad_fn=<AddBackward0>)\n",
      "Epochs- 46 Loss tensor(2.5133, grad_fn=<AddBackward0>)\n",
      "Epochs- 47 Loss tensor(2.5123, grad_fn=<AddBackward0>)\n",
      "Epochs- 48 Loss tensor(2.5114, grad_fn=<AddBackward0>)\n",
      "Epochs- 49 Loss tensor(2.5105, grad_fn=<AddBackward0>)\n",
      "Epochs- 50 Loss tensor(2.5096, grad_fn=<AddBackward0>)\n",
      "Epochs- 51 Loss tensor(2.5088, grad_fn=<AddBackward0>)\n",
      "Epochs- 52 Loss tensor(2.5080, grad_fn=<AddBackward0>)\n",
      "Epochs- 53 Loss tensor(2.5072, grad_fn=<AddBackward0>)\n",
      "Epochs- 54 Loss tensor(2.5065, grad_fn=<AddBackward0>)\n",
      "Epochs- 55 Loss tensor(2.5058, grad_fn=<AddBackward0>)\n",
      "Epochs- 56 Loss tensor(2.5051, grad_fn=<AddBackward0>)\n",
      "Epochs- 57 Loss tensor(2.5045, grad_fn=<AddBackward0>)\n",
      "Epochs- 58 Loss tensor(2.5038, grad_fn=<AddBackward0>)\n",
      "Epochs- 59 Loss tensor(2.5032, grad_fn=<AddBackward0>)\n",
      "Epochs- 60 Loss tensor(2.5027, grad_fn=<AddBackward0>)\n",
      "Epochs- 61 Loss tensor(2.5021, grad_fn=<AddBackward0>)\n",
      "Epochs- 62 Loss tensor(2.5016, grad_fn=<AddBackward0>)\n",
      "Epochs- 63 Loss tensor(2.5010, grad_fn=<AddBackward0>)\n",
      "Epochs- 64 Loss tensor(2.5006, grad_fn=<AddBackward0>)\n",
      "Epochs- 65 Loss tensor(2.5001, grad_fn=<AddBackward0>)\n",
      "Epochs- 66 Loss tensor(2.4996, grad_fn=<AddBackward0>)\n",
      "Epochs- 67 Loss tensor(2.4992, grad_fn=<AddBackward0>)\n",
      "Epochs- 68 Loss tensor(2.4987, grad_fn=<AddBackward0>)\n",
      "Epochs- 69 Loss tensor(2.4983, grad_fn=<AddBackward0>)\n",
      "Epochs- 70 Loss tensor(2.4979, grad_fn=<AddBackward0>)\n",
      "Epochs- 71 Loss tensor(2.4975, grad_fn=<AddBackward0>)\n",
      "Epochs- 72 Loss tensor(2.4971, grad_fn=<AddBackward0>)\n",
      "Epochs- 73 Loss tensor(2.4968, grad_fn=<AddBackward0>)\n",
      "Epochs- 74 Loss tensor(2.4964, grad_fn=<AddBackward0>)\n",
      "Epochs- 75 Loss tensor(2.4961, grad_fn=<AddBackward0>)\n",
      "Epochs- 76 Loss tensor(2.4957, grad_fn=<AddBackward0>)\n",
      "Epochs- 77 Loss tensor(2.4954, grad_fn=<AddBackward0>)\n",
      "Epochs- 78 Loss tensor(2.4951, grad_fn=<AddBackward0>)\n",
      "Epochs- 79 Loss tensor(2.4948, grad_fn=<AddBackward0>)\n",
      "Epochs- 80 Loss tensor(2.4945, grad_fn=<AddBackward0>)\n",
      "Epochs- 81 Loss tensor(2.4942, grad_fn=<AddBackward0>)\n",
      "Epochs- 82 Loss tensor(2.4939, grad_fn=<AddBackward0>)\n",
      "Epochs- 83 Loss tensor(2.4937, grad_fn=<AddBackward0>)\n",
      "Epochs- 84 Loss tensor(2.4934, grad_fn=<AddBackward0>)\n",
      "Epochs- 85 Loss tensor(2.4931, grad_fn=<AddBackward0>)\n",
      "Epochs- 86 Loss tensor(2.4929, grad_fn=<AddBackward0>)\n",
      "Epochs- 87 Loss tensor(2.4926, grad_fn=<AddBackward0>)\n",
      "Epochs- 88 Loss tensor(2.4924, grad_fn=<AddBackward0>)\n",
      "Epochs- 89 Loss tensor(2.4922, grad_fn=<AddBackward0>)\n",
      "Epochs- 90 Loss tensor(2.4920, grad_fn=<AddBackward0>)\n",
      "Epochs- 91 Loss tensor(2.4917, grad_fn=<AddBackward0>)\n",
      "Epochs- 92 Loss tensor(2.4915, grad_fn=<AddBackward0>)\n",
      "Epochs- 93 Loss tensor(2.4913, grad_fn=<AddBackward0>)\n",
      "Epochs- 94 Loss tensor(2.4911, grad_fn=<AddBackward0>)\n",
      "Epochs- 95 Loss tensor(2.4909, grad_fn=<AddBackward0>)\n",
      "Epochs- 96 Loss tensor(2.4907, grad_fn=<AddBackward0>)\n",
      "Epochs- 97 Loss tensor(2.4905, grad_fn=<AddBackward0>)\n",
      "Epochs- 98 Loss tensor(2.4904, grad_fn=<AddBackward0>)\n",
      "Epochs- 99 Loss tensor(2.4902, grad_fn=<AddBackward0>)\n"
     ]
    }
   ],
   "source": [
    "loss_list=[]\n",
    "epo=[]\n",
    "\n",
    "for epoch in range(100):\n",
    "      \n",
    "    X=f.one_hot(xs, num_classes=27).float()\n",
    "    logits=(X@W)\n",
    "    \n",
    "    ex=torch.exp(logits)\n",
    "    \n",
    "    softop=ex/torch.sum(ex,dim=1,keepdims=True)\n",
    "    \n",
    "    loss=-torch.log(softop[torch.arange(len(xs)),ys]).mean()+0.01*(W**2).mean()\n",
    "    loss_list.append(loss)\n",
    "    epo.append(epoch)\n",
    "    \n",
    "    W.grad=None\n",
    "    loss.backward()\n",
    "    W.data+=-50*W.grad\n",
    "\n",
    "    \n",
    "   \n",
    "    print(f\"Epochs- {epoch} Loss\",loss)\n",
    "    \n",
    "    \n",
    "    "
   ]
  },
  {
   "cell_type": "code",
   "execution_count": 32,
   "metadata": {},
   "outputs": [
    {
     "data": {
      "text/plain": [
       "[<matplotlib.lines.Line2D at 0x1da6e37b348>]"
      ]
     },
     "execution_count": 32,
     "metadata": {},
     "output_type": "execute_result"
    },
    {
     "data": {
      "image/png": "[encoded data removed]",
      "text/plain": [
       "<Figure size 432x288 with 1 Axes>"
      ]
     },
     "metadata": {
      "needs_background": "light"
     },
     "output_type": "display_data"
    }
   ],
   "source": [
    "from matplotlib import pyplot as plt\n",
    "losses=[]\n",
    "for i in loss_list:\n",
    "    losses.append(i.detach().numpy())\n",
    "    \n",
    "plt.plot(epo,losses)"
   ]
  },
  {
   "cell_type": "code",
   "execution_count": 36,
   "metadata": {},
   "outputs": [],
   "source": [
    "table=sorted(set(\"\".join(words)))\n",
    "stoi={s:i+1 for i,s in enumerate(table)}\n",
    "stoi[\".\"]=0\n",
    "itos={s:i for i,s in stoi.items()}\n"
   ]
  },
  {
   "cell_type": "code",
   "execution_count": 43,
   "metadata": {},
   "outputs": [
    {
     "name": "stdout",
     "output_type": "stream",
     "text": [
      "d.\n",
      "l.\n",
      "da.\n",
      "x.\n",
      "ecinaral.\n"
     ]
    }
   ],
   "source": [
    "# g=torch.Generator().manual_seed(5)\n",
    "\n",
    "idx=0\n",
    "names=[]\n",
    "for i in range(5):\n",
    "    while True:\n",
    "#         p=N[idx,:].float()\n",
    "#         p=p/p.sum()\n",
    "        \n",
    "        X=f.one_hot(torch.tensor([idx]), num_classes=27).float()\n",
    "        logits=(X@W)\n",
    "\n",
    "        ex=torch.exp(logits)\n",
    "        softop=ex/torch.sum(ex,dim=1,keepdims=True)\n",
    "        \n",
    "        idx=torch.multinomial(softop,num_samples=1,replacement=True,generator=g).item()\n",
    "        itos[idx]\n",
    "        names.append(itos[idx])\n",
    "        if idx==0:\n",
    "            break\n",
    "    print(\"\".join(names))\n",
    "    names.clear()"
   ]
  },
  {
   "cell_type": "code",
   "execution_count": null,
   "metadata": {},
   "outputs": [],
   "source": []
  }
 ],
 "metadata": {
  "kernelspec": {
   "display_name": "Python 3.7.8 64-bit",
   "language": "python",
   "name": "python37864bit3efe367894924a36a499243ba95600f9"
  },
  "language_info": {
   "codemirror_mode": {
    "name": "ipython",
    "version": 3
   },
   "file_extension": ".py",
   "mimetype": "text/x-python",
   "name": "python",
   "nbconvert_exporter": "python",
   "pygments_lexer": "ipython3",
   "version": "3.7.8"
  }
 },
 "nbformat": 4,
 "nbformat_minor": 4
}
