{
 "cells": [
  {
   "cell_type": "markdown",
   "metadata": {},
   "source": [
    "# Trigram Languade Model"
   ]
  },
  {
   "cell_type": "code",
   "execution_count": null,
   "metadata": {},
   "outputs": [],
   "source": [
    "words=open(\"names.txt\",\"r\").read().splitlines()\n",
    "\n",
    "print(\"Total Words\",len(words))\n",
    "print(\"Max Length\",max(len(i) for i in words))\n",
    "print(\"Min Length,\",min(len(i) for i in words))\n"
   ]
  },
  {
   "cell_type": "code",
   "execution_count": 10,
   "metadata": {},
   "outputs": [],
   "source": [
    "import warnings\n",
    "warnings.filterwarnings('ignore')"
   ]
  },
  {
   "cell_type": "markdown",
   "metadata": {},
   "source": [
    "# Creating Traning Set"
   ]
  },
  {
   "cell_type": "code",
   "execution_count": 2,
   "metadata": {},
   "outputs": [],
   "source": [
    "import torch\n",
    "Alpha_table=sorted(set(\"\".join(words)))\n",
    "Alpha_numb={s:i+1 for i,s in enumerate(Alpha_table)}\n",
    "Alpha_numb[\".\"]=0\n",
    "\n",
    "xs,ys=[],[]\n",
    "\n",
    "for word in words:\n",
    "    token=[\".\"]+list(word)+[\".\"]\n",
    "    for w1,w2,w3 in zip(token,token[1:],token[2:]):\n",
    "        idx1=Alpha_numb[w1]\n",
    "        idx2=Alpha_numb[w2]\n",
    "        idx3=Alpha_numb[w3]\n",
    "        \n",
    "        xs.append([idx1,idx2])\n",
    "        ys.append([idx3])\n",
    "        \n",
    "xs=torch.tensor(xs)\n",
    "ys=torch.tensor(ys)"
   ]
  },
  {
   "cell_type": "code",
   "execution_count": 48,
   "metadata": {},
   "outputs": [],
   "source": [
    "itos={s:i for i,s in Alpha_numb.items()}"
   ]
  },
  {
   "cell_type": "code",
   "execution_count": null,
   "metadata": {},
   "outputs": [],
   "source": []
  },
  {
   "cell_type": "code",
   "execution_count": 14,
   "metadata": {},
   "outputs": [
    {
     "data": {
      "text/plain": [
       "9805.65"
      ]
     },
     "execution_count": 14,
     "metadata": {},
     "output_type": "execute_result"
    }
   ],
   "source": [
    "len(xs)/20"
   ]
  },
  {
   "cell_type": "markdown",
   "metadata": {},
   "source": [
    "# Creating Batch for Traning set"
   ]
  },
  {
   "cell_type": "code",
   "execution_count": 16,
   "metadata": {},
   "outputs": [],
   "source": [
    "import torch.nn.functional as f\n",
    "import numpy as np\n",
    "# hot=f.one_hot(xs,num_classes=27)\n",
    "X=torch.zeros((len(xs),27),dtype=torch.float32)\n",
    "for i in range(len(xs)):\n",
    "    X[i,xs[i,0]]=1\n",
    "    X[i,xs[i,1]]=1\n",
    "    \n",
    "    \n",
    "CX=[];CY=[]\n",
    "for i in range(20):\n",
    "    CX.append(X[i:9805])\n",
    "    CY.append(ys[i:9805])\n"
   ]
  },
  {
   "cell_type": "code",
   "execution_count": 17,
   "metadata": {},
   "outputs": [],
   "source": [
    "CX=np.array(CX);CY=np.array(CY)"
   ]
  },
  {
   "cell_type": "markdown",
   "metadata": {},
   "source": [
    "# Traning Loop"
   ]
  },
  {
   "cell_type": "code",
   "execution_count": 30,
   "metadata": {},
   "outputs": [],
   "source": [
    "W=torch.randn((27,27),requires_grad=True)"
   ]
  },
  {
   "cell_type": "code",
   "execution_count": 31,
   "metadata": {},
   "outputs": [
    {
     "data": {
      "application/vnd.jupyter.widget-view+json": {
       "model_id": "89ccb7b4795b46309dd908ca2d50fa50",
       "version_major": 2,
       "version_minor": 0
      },
      "text/plain": [
       "0it [00:00, ?it/s]"
      ]
     },
     "metadata": {},
     "output_type": "display_data"
    },
    {
     "name": "stdout",
     "output_type": "stream",
     "text": [
      "tensor(4.3669, grad_fn=<AddBackward0>)\n",
      "tensor(3.7078, grad_fn=<AddBackward0>)\n",
      "tensor(3.3750, grad_fn=<AddBackward0>)\n",
      "tensor(3.1935, grad_fn=<AddBackward0>)\n",
      "tensor(3.0841, grad_fn=<AddBackward0>)\n",
      "tensor(3.0089, grad_fn=<AddBackward0>)\n",
      "tensor(2.9536, grad_fn=<AddBackward0>)\n",
      "tensor(2.9113, grad_fn=<AddBackward0>)\n",
      "tensor(2.8779, grad_fn=<AddBackward0>)\n",
      "tensor(2.8510, grad_fn=<AddBackward0>)\n",
      "tensor(2.8287, grad_fn=<AddBackward0>)\n",
      "tensor(2.8097, grad_fn=<AddBackward0>)\n",
      "tensor(2.7936, grad_fn=<AddBackward0>)\n",
      "tensor(2.7797, grad_fn=<AddBackward0>)\n",
      "tensor(2.7674, grad_fn=<AddBackward0>)\n",
      "tensor(2.7568, grad_fn=<AddBackward0>)\n",
      "tensor(2.7471, grad_fn=<AddBackward0>)\n",
      "tensor(2.7387, grad_fn=<AddBackward0>)\n",
      "tensor(2.7311, grad_fn=<AddBackward0>)\n",
      "tensor(2.7243, grad_fn=<AddBackward0>)\n",
      "Epochs- 0 Loss tensor(2.7243, grad_fn=<AddBackward0>)\n"
     ]
    },
    {
     "data": {
      "application/vnd.jupyter.widget-view+json": {
       "model_id": "012b1277f98c434cbdb5f7653ccfb80d",
       "version_major": 2,
       "version_minor": 0
      },
      "text/plain": [
       "0it [00:00, ?it/s]"
      ]
     },
     "metadata": {},
     "output_type": "display_data"
    },
    {
     "name": "stdout",
     "output_type": "stream",
     "text": [
      "tensor(2.7186, grad_fn=<AddBackward0>)\n",
      "tensor(2.7128, grad_fn=<AddBackward0>)\n",
      "tensor(2.7076, grad_fn=<AddBackward0>)\n",
      "tensor(2.7030, grad_fn=<AddBackward0>)\n",
      "tensor(2.6988, grad_fn=<AddBackward0>)\n",
      "tensor(2.6948, grad_fn=<AddBackward0>)\n",
      "tensor(2.6912, grad_fn=<AddBackward0>)\n",
      "tensor(2.6876, grad_fn=<AddBackward0>)\n",
      "tensor(2.6844, grad_fn=<AddBackward0>)\n",
      "tensor(2.6816, grad_fn=<AddBackward0>)\n",
      "tensor(2.6789, grad_fn=<AddBackward0>)\n",
      "tensor(2.6761, grad_fn=<AddBackward0>)\n",
      "tensor(2.6738, grad_fn=<AddBackward0>)\n",
      "tensor(2.6716, grad_fn=<AddBackward0>)\n",
      "tensor(2.6694, grad_fn=<AddBackward0>)\n",
      "tensor(2.6675, grad_fn=<AddBackward0>)\n",
      "tensor(2.6653, grad_fn=<AddBackward0>)\n",
      "tensor(2.6636, grad_fn=<AddBackward0>)\n",
      "tensor(2.6619, grad_fn=<AddBackward0>)\n",
      "tensor(2.6603, grad_fn=<AddBackward0>)\n",
      "Epochs- 1 Loss tensor(2.6603, grad_fn=<AddBackward0>)\n"
     ]
    },
    {
     "data": {
      "application/vnd.jupyter.widget-view+json": {
       "model_id": "0914096d7c034efcae8691b78995513e",
       "version_major": 2,
       "version_minor": 0
      },
      "text/plain": [
       "0it [00:00, ?it/s]"
      ]
     },
     "metadata": {},
     "output_type": "display_data"
    },
    {
     "name": "stdout",
     "output_type": "stream",
     "text": [
      "tensor(2.6593, grad_fn=<AddBackward0>)\n",
      "tensor(2.6577, grad_fn=<AddBackward0>)\n",
      "tensor(2.6561, grad_fn=<AddBackward0>)\n",
      "tensor(2.6549, grad_fn=<AddBackward0>)\n",
      "tensor(2.6537, grad_fn=<AddBackward0>)\n",
      "tensor(2.6526, grad_fn=<AddBackward0>)\n",
      "tensor(2.6515, grad_fn=<AddBackward0>)\n",
      "tensor(2.6502, grad_fn=<AddBackward0>)\n",
      "tensor(2.6491, grad_fn=<AddBackward0>)\n",
      "tensor(2.6482, grad_fn=<AddBackward0>)\n",
      "tensor(2.6474, grad_fn=<AddBackward0>)\n",
      "tensor(2.6462, grad_fn=<AddBackward0>)\n",
      "tensor(2.6454, grad_fn=<AddBackward0>)\n",
      "tensor(2.6447, grad_fn=<AddBackward0>)\n",
      "tensor(2.6437, grad_fn=<AddBackward0>)\n",
      "tensor(2.6431, grad_fn=<AddBackward0>)\n",
      "tensor(2.6421, grad_fn=<AddBackward0>)\n",
      "tensor(2.6414, grad_fn=<AddBackward0>)\n",
      "tensor(2.6407, grad_fn=<AddBackward0>)\n",
      "tensor(2.6400, grad_fn=<AddBackward0>)\n",
      "Epochs- 2 Loss tensor(2.6400, grad_fn=<AddBackward0>)\n"
     ]
    },
    {
     "data": {
      "application/vnd.jupyter.widget-view+json": {
       "model_id": "778b14f31f8d43f19a98c10eb62f2ed8",
       "version_major": 2,
       "version_minor": 0
      },
      "text/plain": [
       "0it [00:00, ?it/s]"
      ]
     },
     "metadata": {},
     "output_type": "display_data"
    },
    {
     "name": "stdout",
     "output_type": "stream",
     "text": [
      "tensor(2.6399, grad_fn=<AddBackward0>)\n",
      "tensor(2.6391, grad_fn=<AddBackward0>)\n",
      "tensor(2.6383, grad_fn=<AddBackward0>)\n",
      "tensor(2.6378, grad_fn=<AddBackward0>)\n",
      "tensor(2.6373, grad_fn=<AddBackward0>)\n",
      "tensor(2.6368, grad_fn=<AddBackward0>)\n",
      "tensor(2.6363, grad_fn=<AddBackward0>)\n",
      "tensor(2.6356, grad_fn=<AddBackward0>)\n",
      "tensor(2.6351, grad_fn=<AddBackward0>)\n",
      "tensor(2.6347, grad_fn=<AddBackward0>)\n",
      "tensor(2.6343, grad_fn=<AddBackward0>)\n",
      "tensor(2.6336, grad_fn=<AddBackward0>)\n",
      "tensor(2.6332, grad_fn=<AddBackward0>)\n",
      "tensor(2.6329, grad_fn=<AddBackward0>)\n",
      "tensor(2.6324, grad_fn=<AddBackward0>)\n",
      "tensor(2.6321, grad_fn=<AddBackward0>)\n",
      "tensor(2.6314, grad_fn=<AddBackward0>)\n",
      "tensor(2.6311, grad_fn=<AddBackward0>)\n",
      "tensor(2.6307, grad_fn=<AddBackward0>)\n",
      "tensor(2.6304, grad_fn=<AddBackward0>)\n",
      "Epochs- 3 Loss tensor(2.6304, grad_fn=<AddBackward0>)\n"
     ]
    },
    {
     "data": {
      "application/vnd.jupyter.widget-view+json": {
       "model_id": "5a347ea55e384f70ad9d78fbfabbaf3d",
       "version_major": 2,
       "version_minor": 0
      },
      "text/plain": [
       "0it [00:00, ?it/s]"
      ]
     },
     "metadata": {},
     "output_type": "display_data"
    },
    {
     "name": "stdout",
     "output_type": "stream",
     "text": [
      "tensor(2.6305, grad_fn=<AddBackward0>)\n",
      "tensor(2.6300, grad_fn=<AddBackward0>)\n",
      "tensor(2.6295, grad_fn=<AddBackward0>)\n",
      "tensor(2.6292, grad_fn=<AddBackward0>)\n",
      "tensor(2.6290, grad_fn=<AddBackward0>)\n",
      "tensor(2.6287, grad_fn=<AddBackward0>)\n",
      "tensor(2.6284, grad_fn=<AddBackward0>)\n",
      "tensor(2.6279, grad_fn=<AddBackward0>)\n",
      "tensor(2.6276, grad_fn=<AddBackward0>)\n",
      "tensor(2.6274, grad_fn=<AddBackward0>)\n",
      "tensor(2.6272, grad_fn=<AddBackward0>)\n",
      "tensor(2.6267, grad_fn=<AddBackward0>)\n",
      "tensor(2.6265, grad_fn=<AddBackward0>)\n",
      "tensor(2.6264, grad_fn=<AddBackward0>)\n",
      "tensor(2.6260, grad_fn=<AddBackward0>)\n",
      "tensor(2.6258, grad_fn=<AddBackward0>)\n",
      "tensor(2.6254, grad_fn=<AddBackward0>)\n",
      "tensor(2.6252, grad_fn=<AddBackward0>)\n",
      "tensor(2.6250, grad_fn=<AddBackward0>)\n",
      "tensor(2.6247, grad_fn=<AddBackward0>)\n",
      "Epochs- 4 Loss tensor(2.6247, grad_fn=<AddBackward0>)\n"
     ]
    },
    {
     "data": {
      "application/vnd.jupyter.widget-view+json": {
       "model_id": "ee70dd6ca39d4ef2a3a969283bb3bedf",
       "version_major": 2,
       "version_minor": 0
      },
      "text/plain": [
       "0it [00:00, ?it/s]"
      ]
     },
     "metadata": {},
     "output_type": "display_data"
    },
    {
     "name": "stdout",
     "output_type": "stream",
     "text": [
      "tensor(2.6250, grad_fn=<AddBackward0>)\n",
      "tensor(2.6246, grad_fn=<AddBackward0>)\n",
      "tensor(2.6242, grad_fn=<AddBackward0>)\n",
      "tensor(2.6241, grad_fn=<AddBackward0>)\n",
      "tensor(2.6240, grad_fn=<AddBackward0>)\n",
      "tensor(2.6238, grad_fn=<AddBackward0>)\n",
      "tensor(2.6236, grad_fn=<AddBackward0>)\n",
      "tensor(2.6232, grad_fn=<AddBackward0>)\n",
      "tensor(2.6230, grad_fn=<AddBackward0>)\n",
      "tensor(2.6229, grad_fn=<AddBackward0>)\n",
      "tensor(2.6228, grad_fn=<AddBackward0>)\n",
      "tensor(2.6224, grad_fn=<AddBackward0>)\n",
      "tensor(2.6223, grad_fn=<AddBackward0>)\n",
      "tensor(2.6222, grad_fn=<AddBackward0>)\n",
      "tensor(2.6220, grad_fn=<AddBackward0>)\n",
      "tensor(2.6219, grad_fn=<AddBackward0>)\n",
      "tensor(2.6215, grad_fn=<AddBackward0>)\n",
      "tensor(2.6214, grad_fn=<AddBackward0>)\n",
      "tensor(2.6212, grad_fn=<AddBackward0>)\n",
      "tensor(2.6211, grad_fn=<AddBackward0>)\n",
      "Epochs- 5 Loss tensor(2.6211, grad_fn=<AddBackward0>)\n"
     ]
    },
    {
     "data": {
      "application/vnd.jupyter.widget-view+json": {
       "model_id": "04dfc9239dad4a44927f6e9130324010",
       "version_major": 2,
       "version_minor": 0
      },
      "text/plain": [
       "0it [00:00, ?it/s]"
      ]
     },
     "metadata": {},
     "output_type": "display_data"
    },
    {
     "name": "stdout",
     "output_type": "stream",
     "text": [
      "tensor(2.6214, grad_fn=<AddBackward0>)\n",
      "tensor(2.6211, grad_fn=<AddBackward0>)\n",
      "tensor(2.6208, grad_fn=<AddBackward0>)\n",
      "tensor(2.6207, grad_fn=<AddBackward0>)\n",
      "tensor(2.6207, grad_fn=<AddBackward0>)\n",
      "tensor(2.6205, grad_fn=<AddBackward0>)\n",
      "tensor(2.6204, grad_fn=<AddBackward0>)\n",
      "tensor(2.6201, grad_fn=<AddBackward0>)\n",
      "tensor(2.6200, grad_fn=<AddBackward0>)\n",
      "tensor(2.6199, grad_fn=<AddBackward0>)\n",
      "tensor(2.6199, grad_fn=<AddBackward0>)\n",
      "tensor(2.6195, grad_fn=<AddBackward0>)\n",
      "tensor(2.6195, grad_fn=<AddBackward0>)\n",
      "tensor(2.6194, grad_fn=<AddBackward0>)\n",
      "tensor(2.6192, grad_fn=<AddBackward0>)\n",
      "tensor(2.6192, grad_fn=<AddBackward0>)\n",
      "tensor(2.6188, grad_fn=<AddBackward0>)\n",
      "tensor(2.6188, grad_fn=<AddBackward0>)\n",
      "tensor(2.6187, grad_fn=<AddBackward0>)\n",
      "tensor(2.6186, grad_fn=<AddBackward0>)\n",
      "Epochs- 6 Loss tensor(2.6186, grad_fn=<AddBackward0>)\n"
     ]
    },
    {
     "data": {
      "application/vnd.jupyter.widget-view+json": {
       "model_id": "48f89dce4e5e4d1e8bd50dda4b476126",
       "version_major": 2,
       "version_minor": 0
      },
      "text/plain": [
       "0it [00:00, ?it/s]"
      ]
     },
     "metadata": {},
     "output_type": "display_data"
    },
    {
     "name": "stdout",
     "output_type": "stream",
     "text": [
      "tensor(2.6189, grad_fn=<AddBackward0>)\n",
      "tensor(2.6186, grad_fn=<AddBackward0>)\n",
      "tensor(2.6184, grad_fn=<AddBackward0>)\n",
      "tensor(2.6184, grad_fn=<AddBackward0>)\n",
      "tensor(2.6183, grad_fn=<AddBackward0>)\n",
      "tensor(2.6183, grad_fn=<AddBackward0>)\n",
      "tensor(2.6182, grad_fn=<AddBackward0>)\n",
      "tensor(2.6179, grad_fn=<AddBackward0>)\n",
      "tensor(2.6178, grad_fn=<AddBackward0>)\n",
      "tensor(2.6178, grad_fn=<AddBackward0>)\n",
      "tensor(2.6178, grad_fn=<AddBackward0>)\n",
      "tensor(2.6175, grad_fn=<AddBackward0>)\n",
      "tensor(2.6175, grad_fn=<AddBackward0>)\n",
      "tensor(2.6175, grad_fn=<AddBackward0>)\n",
      "tensor(2.6173, grad_fn=<AddBackward0>)\n",
      "tensor(2.6173, grad_fn=<AddBackward0>)\n",
      "tensor(2.6169, grad_fn=<AddBackward0>)\n",
      "tensor(2.6169, grad_fn=<AddBackward0>)\n",
      "tensor(2.6168, grad_fn=<AddBackward0>)\n",
      "tensor(2.6168, grad_fn=<AddBackward0>)\n",
      "Epochs- 7 Loss tensor(2.6168, grad_fn=<AddBackward0>)\n"
     ]
    },
    {
     "data": {
      "application/vnd.jupyter.widget-view+json": {
       "model_id": "180e4507fd4f4d5792674a9e1c5dd385",
       "version_major": 2,
       "version_minor": 0
      },
      "text/plain": [
       "0it [00:00, ?it/s]"
      ]
     },
     "metadata": {},
     "output_type": "display_data"
    },
    {
     "name": "stdout",
     "output_type": "stream",
     "text": [
      "tensor(2.6171, grad_fn=<AddBackward0>)\n",
      "tensor(2.6169, grad_fn=<AddBackward0>)\n",
      "tensor(2.6167, grad_fn=<AddBackward0>)\n",
      "tensor(2.6167, grad_fn=<AddBackward0>)\n",
      "tensor(2.6167, grad_fn=<AddBackward0>)\n",
      "tensor(2.6166, grad_fn=<AddBackward0>)\n",
      "tensor(2.6166, grad_fn=<AddBackward0>)\n",
      "tensor(2.6163, grad_fn=<AddBackward0>)\n",
      "tensor(2.6162, grad_fn=<AddBackward0>)\n",
      "tensor(2.6162, grad_fn=<AddBackward0>)\n",
      "tensor(2.6162, grad_fn=<AddBackward0>)\n",
      "tensor(2.6160, grad_fn=<AddBackward0>)\n",
      "tensor(2.6160, grad_fn=<AddBackward0>)\n",
      "tensor(2.6160, grad_fn=<AddBackward0>)\n"
     ]
    },
    {
     "ename": "KeyboardInterrupt",
     "evalue": "",
     "output_type": "error",
     "traceback": [
      "\u001b[1;31m---------------------------------------------------------------------------\u001b[0m",
      "\u001b[1;31mKeyboardInterrupt\u001b[0m                         Traceback (most recent call last)",
      "\u001b[1;32m<ipython-input-31-d78efe4f056a>\u001b[0m in \u001b[0;36m<module>\u001b[1;34m\u001b[0m\n\u001b[0;32m     12\u001b[0m         \u001b[0mprint\u001b[0m\u001b[1;33m(\u001b[0m\u001b[0mloss\u001b[0m\u001b[1;33m)\u001b[0m\u001b[1;33m\u001b[0m\u001b[1;33m\u001b[0m\u001b[0m\n\u001b[0;32m     13\u001b[0m         \u001b[0mW\u001b[0m\u001b[1;33m.\u001b[0m\u001b[0mgrad\u001b[0m\u001b[1;33m=\u001b[0m\u001b[1;32mNone\u001b[0m\u001b[1;33m\u001b[0m\u001b[1;33m\u001b[0m\u001b[0m\n\u001b[1;32m---> 14\u001b[1;33m         \u001b[0mloss\u001b[0m\u001b[1;33m.\u001b[0m\u001b[0mbackward\u001b[0m\u001b[1;33m(\u001b[0m\u001b[1;33m)\u001b[0m\u001b[1;33m\u001b[0m\u001b[1;33m\u001b[0m\u001b[0m\n\u001b[0m\u001b[0;32m     15\u001b[0m         \u001b[0mW\u001b[0m\u001b[1;33m.\u001b[0m\u001b[0mdata\u001b[0m\u001b[1;33m+=\u001b[0m\u001b[1;33m-\u001b[0m\u001b[1;36m20\u001b[0m\u001b[1;33m*\u001b[0m \u001b[0mW\u001b[0m\u001b[1;33m.\u001b[0m\u001b[0mgrad\u001b[0m\u001b[1;33m\u001b[0m\u001b[1;33m\u001b[0m\u001b[0m\n\u001b[0;32m     16\u001b[0m \u001b[1;33m\u001b[0m\u001b[0m\n",
      "\u001b[1;32m~\\AppData\\Local\\Programs\\Python\\Python37\\lib\\site-packages\\torch\\_tensor.py\u001b[0m in \u001b[0;36mbackward\u001b[1;34m(self, gradient, retain_graph, create_graph, inputs)\u001b[0m\n\u001b[0;32m    305\u001b[0m                 \u001b[0mcreate_graph\u001b[0m\u001b[1;33m=\u001b[0m\u001b[0mcreate_graph\u001b[0m\u001b[1;33m,\u001b[0m\u001b[1;33m\u001b[0m\u001b[1;33m\u001b[0m\u001b[0m\n\u001b[0;32m    306\u001b[0m                 inputs=inputs)\n\u001b[1;32m--> 307\u001b[1;33m         \u001b[0mtorch\u001b[0m\u001b[1;33m.\u001b[0m\u001b[0mautograd\u001b[0m\u001b[1;33m.\u001b[0m\u001b[0mbackward\u001b[0m\u001b[1;33m(\u001b[0m\u001b[0mself\u001b[0m\u001b[1;33m,\u001b[0m \u001b[0mgradient\u001b[0m\u001b[1;33m,\u001b[0m \u001b[0mretain_graph\u001b[0m\u001b[1;33m,\u001b[0m \u001b[0mcreate_graph\u001b[0m\u001b[1;33m,\u001b[0m \u001b[0minputs\u001b[0m\u001b[1;33m=\u001b[0m\u001b[0minputs\u001b[0m\u001b[1;33m)\u001b[0m\u001b[1;33m\u001b[0m\u001b[1;33m\u001b[0m\u001b[0m\n\u001b[0m\u001b[0;32m    308\u001b[0m \u001b[1;33m\u001b[0m\u001b[0m\n\u001b[0;32m    309\u001b[0m     \u001b[1;32mdef\u001b[0m \u001b[0mregister_hook\u001b[0m\u001b[1;33m(\u001b[0m\u001b[0mself\u001b[0m\u001b[1;33m,\u001b[0m \u001b[0mhook\u001b[0m\u001b[1;33m)\u001b[0m\u001b[1;33m:\u001b[0m\u001b[1;33m\u001b[0m\u001b[1;33m\u001b[0m\u001b[0m\n",
      "\u001b[1;32m~\\AppData\\Local\\Programs\\Python\\Python37\\lib\\site-packages\\torch\\autograd\\__init__.py\u001b[0m in \u001b[0;36mbackward\u001b[1;34m(tensors, grad_tensors, retain_graph, create_graph, grad_variables, inputs)\u001b[0m\n\u001b[0;32m    154\u001b[0m     Variable._execution_engine.run_backward(\n\u001b[0;32m    155\u001b[0m         \u001b[0mtensors\u001b[0m\u001b[1;33m,\u001b[0m \u001b[0mgrad_tensors_\u001b[0m\u001b[1;33m,\u001b[0m \u001b[0mretain_graph\u001b[0m\u001b[1;33m,\u001b[0m \u001b[0mcreate_graph\u001b[0m\u001b[1;33m,\u001b[0m \u001b[0minputs\u001b[0m\u001b[1;33m,\u001b[0m\u001b[1;33m\u001b[0m\u001b[1;33m\u001b[0m\u001b[0m\n\u001b[1;32m--> 156\u001b[1;33m         allow_unreachable=True, accumulate_grad=True)  # allow_unreachable flag\n\u001b[0m\u001b[0;32m    157\u001b[0m \u001b[1;33m\u001b[0m\u001b[0m\n\u001b[0;32m    158\u001b[0m \u001b[1;33m\u001b[0m\u001b[0m\n",
      "\u001b[1;31mKeyboardInterrupt\u001b[0m: "
     ]
    }
   ],
   "source": [
    "from tqdm.auto import tqdm\n",
    "loss_list=[]\n",
    "epo=[]\n",
    "for i in range(100):\n",
    "    \n",
    "    for x1,y1 in tqdm(zip(CX,CY)):\n",
    "\n",
    "        logits=(x1@W)\n",
    "        exp=torch.exp(logits)\n",
    "        softmax=exp/torch.sum(exp,dim=1,keepdims=True)\n",
    "        loss=-torch.log(softmax[torch.arange(len(x1)),y1]).mean() +0.01*(W**2).mean()\n",
    "        print(loss)\n",
    "        W.grad=None\n",
    "        loss.backward()\n",
    "        W.data+=-20* W.grad\n",
    "    \n",
    "   \n",
    "    print(f\"Epochs- {i} Loss\",loss)\n",
    "    loss_list.append(loss)\n",
    "    epo.append(i)\n",
    "    "
   ]
  },
  {
   "cell_type": "code",
   "execution_count": 35,
   "metadata": {},
   "outputs": [],
   "source": [
    "from matplotlib import pyplot as plt"
   ]
  },
  {
   "cell_type": "code",
   "execution_count": 39,
   "metadata": {},
   "outputs": [],
   "source": [
    "losses=[]\n",
    "for i in loss_list:\n",
    "    losses.append(i.detach().numpy())"
   ]
  },
  {
   "cell_type": "code",
   "execution_count": 40,
   "metadata": {},
   "outputs": [
    {
     "data": {
      "text/plain": [
       "[<matplotlib.lines.Line2D at 0x24b02ab3648>]"
      ]
     },
     "execution_count": 40,
     "metadata": {},
     "output_type": "execute_result"
    },
    {
     "data": {
      "image/png": "[encoded data removed]",
      "text/plain": [
       "<Figure size 432x288 with 1 Axes>"
      ]
     },
     "metadata": {
      "needs_background": "light"
     },
     "output_type": "display_data"
    }
   ],
   "source": [
    "plt.plot(epo,losses)"
   ]
  },
  {
   "cell_type": "code",
   "execution_count": 43,
   "metadata": {},
   "outputs": [],
   "source": [
    "def Multi_One_Hot(array):\n",
    "    vec=torch.zeros((1,27)).float()\n",
    "    vec[0,array[0]]=1\n",
    "    vec[0,array[1]]=1\n",
    "    \n",
    "    return vec"
   ]
  },
  {
   "cell_type": "code",
   "execution_count": 45,
   "metadata": {},
   "outputs": [
    {
     "data": {
      "text/plain": [
       "torch.Size([1, 27])"
      ]
     },
     "execution_count": 45,
     "metadata": {},
     "output_type": "execute_result"
    }
   ],
   "source": [
    "Multi_One_Hot([1,2]).shape"
   ]
  },
  {
   "cell_type": "code",
   "execution_count": 91,
   "metadata": {},
   "outputs": [
    {
     "name": "stdout",
     "output_type": "stream",
     "text": [
      "l.\n",
      ".\n",
      "velllia.\n",
      "nlir.\n",
      "sravnarayda.\n",
      "hriea.\n",
      "elaa.\n",
      "ntaauhvarlyzyasmy.\n",
      "laaacdfj.\n",
      "aliyhxlnryons.\n"
     ]
    }
   ],
   "source": [
    "# g=torch.Generator().manual_seed(5)\n",
    "\n",
    "idx1,idx2=0,26\n",
    "names=[]\n",
    "for i in range(10):\n",
    "    while True:\n",
    "        X=Multi_One_Hot([idx1,idx2])\n",
    "        logits=(X@W)\n",
    "\n",
    "        ex=torch.exp(logits)\n",
    "        softop=ex/torch.sum(ex,dim=1,keepdims=True)\n",
    "#         print(softop)\n",
    "        idx=torch.multinomial(softop,num_samples=1,replacement=True,generator=g).item()\n",
    "    \n",
    "        idx1=idx2\n",
    "        idx2=idx\n",
    "        itos[idx]\n",
    "        names.append(itos[idx])\n",
    "        if idx==0:\n",
    "            break\n",
    "    print(\"\".join(names))\n",
    "    names.clear()"
   ]
  },
  {
   "cell_type": "code",
   "execution_count": null,
   "metadata": {},
   "outputs": [],
   "source": []
  }
 ],
 "metadata": {
  "kernelspec": {
   "display_name": "Python 3.7.8 64-bit",
   "language": "python",
   "name": "python37864bit3efe367894924a36a499243ba95600f9"
  },
  "language_info": {
   "codemirror_mode": {
    "name": "ipython",
    "version": 3
   },
   "file_extension": ".py",
   "mimetype": "text/x-python",
   "name": "python",
   "nbconvert_exporter": "python",
   "pygments_lexer": "ipython3",
   "version": "3.7.8"
  }
 },
 "nbformat": 4,
 "nbformat_minor": 4
}
